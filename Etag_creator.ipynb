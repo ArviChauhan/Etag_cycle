{
 "cells": [
  {
   "cell_type": "code",
   "execution_count": 1,
   "metadata": {},
   "outputs": [
    {
     "name": "stdout",
     "output_type": "stream",
     "text": [
      "Collecting fpdf\n",
      "  Downloading https://files.pythonhosted.org/packages/37/c6/608a9e6c172bf9124aa687ec8b9f0e8e5d697d59a5f4fad0e2d5ec2a7556/fpdf-1.7.2.tar.gz\n",
      "Building wheels for collected packages: fpdf\n",
      "  Building wheel for fpdf (setup.py): started\n",
      "  Building wheel for fpdf (setup.py): finished with status 'done'\n",
      "  Stored in directory: C:\\Users\\chauhan.arvind\\AppData\\Local\\pip\\Cache\\wheels\\9a\\e9\\77\\4554ff5c99bc3f487c8d69620d8c41d99d54e9c54ab20ef4c9\n",
      "Successfully built fpdf\n",
      "Installing collected packages: fpdf\n",
      "Successfully installed fpdf-1.7.2\n",
      "Note: you may need to restart the kernel to use updated packages.\n"
     ]
    }
   ],
   "source": [
    "#install fpdf libray\n",
    "pip install fpdf"
   ]
  },
  {
   "cell_type": "code",
   "execution_count": 176,
   "metadata": {},
   "outputs": [],
   "source": [
    "# import libraries\n",
    "from fpdf import FPDF\n",
    "pdf = FPDF()\n",
    "pdf.add_page()\n",
    "\n",
    "import numpy as np\n",
    "from PIL import Image, ImageDraw\n"
   ]
  },
  {
   "cell_type": "code",
   "execution_count": 177,
   "metadata": {},
   "outputs": [],
   "source": [
    "# Function to resize \n",
    "def image_resize(image_path):\n",
    "    # Open the input image as numpy array, convert to RGB\n",
    "    img=Image.open(image_path).convert(\"RGB\")\n",
    "    npImage=np.array(img)\n",
    "    h,w=img.size\n",
    "\n",
    "    # Create same size alpha layer with circle\n",
    "    alpha = Image.new('L', img.size,0)\n",
    "    draw = ImageDraw.Draw(alpha)\n",
    "    draw.pieslice([0,0,h,w],0,360,fill=255)\n",
    "\n",
    "    # Convert alpha Image to numpy array\n",
    "    npAlpha=np.array(alpha)\n",
    "\n",
    "    # Add alpha layer to RGB\n",
    "    npImage=np.dstack((npImage,npAlpha))\n",
    "    Image.fromarray(npImage).save('result.png')\n",
    "    return ()\n",
    "\n"
   ]
  },
  {
   "cell_type": "code",
   "execution_count": 178,
   "metadata": {},
   "outputs": [],
   "source": [
    "# Enter Parameters\n",
    "name = \"ARVIND CHAUHAN\"\n",
    "blood_group = \"B+\"\n",
    "AIR= \"101101\"\n",
    "emergency_contact = '9873704583'\n",
    "image_path = 'C:/Users/chauhan.arvind/Downloads/log1.png' #group image"
   ]
  },
  {
   "cell_type": "code",
   "execution_count": 179,
   "metadata": {},
   "outputs": [
    {
     "data": {
      "text/plain": [
       "'ARVIND CHAUHAN'"
      ]
     },
     "execution_count": 179,
     "metadata": {},
     "output_type": "execute_result"
    }
   ],
   "source": [
    "name"
   ]
  },
  {
   "cell_type": "code",
   "execution_count": 181,
   "metadata": {},
   "outputs": [
    {
     "data": {
      "text/plain": [
       "''"
      ]
     },
     "execution_count": 181,
     "metadata": {},
     "output_type": "execute_result"
    }
   ],
   "source": [
    "pdf.set_font(\"Arial\", size=12)\n",
    "pdf.set_fill_color(128, 255, 0)\n",
    "pdf.cell(100, 5, txt=\"Bicycle Emergency Tag (e-TAG)\", ln=0,fill=True, align=\"L\")\n",
    "pdf.cell(90, 5, txt=\"Group Name\", ln=0, fill=True,align=\"R\")\n",
    "\n",
    "#Left Tag\n",
    "pdf.set_fill_color(128, 255, 0)\n",
    "pdf.rect(15, 25, 85, 40, style='F')\n",
    "pdf.set_fill_color(255, 255, 255)\n",
    "pdf.ellipse(22.5, 32.5, 25,25, style='F')\n",
    "image_resize(image_path)\n",
    "pdf.image('result.png', x=25, y=35, w=20)\n",
    "pdf.set_fill_color(255, 255, 255)\n",
    "pdf.set_xy(20, 30)\n",
    "pdf.cell(100, 5, txt=name, ln=1, align=\"C\")\n",
    "pdf.set_xy(20, 35)\n",
    "pdf.cell(100, 5, txt=\"Blood Group: {}\".format(blood_group), ln=1, align=\"C\")\n",
    "pdf.set_xy(20, 40)\n",
    "pdf.cell(100, 5, txt=\"AIR: {}\".format(AIR), ln=1, align=\"C\")\n",
    "pdf.set_xy(20, 45)\n",
    "pdf.cell(100, 5, txt=\"(E): {}\".format(emergency_contact), ln=1, align=\"C\")\n",
    "pdf.set_xy(20, 55)\n",
    "pdf.cell(100, 5, txt=\"AMBULANCE: 102/108\", ln=1, align=\"C\")\n",
    "\n",
    "# Right Tag\n",
    "pdf.set_fill_color(128, 255, 0)\n",
    "pdf.rect(110, 25, 85, 40, style='F')\n",
    "pdf.set_fill_color(255, 255, 255)\n",
    "pdf.ellipse(115, 32.5, 25,25, style='F')\n",
    "pdf.image('result.png', x=117.5, y=35, w=20)\n",
    "pdf.set_fill_color(0, 0, 0)\n",
    "pdf.set_xy(115, 30)\n",
    "pdf.cell(110, 5, txt=name, ln=0, align=\"C\")\n",
    "pdf.set_xy(110, 35)\n",
    "pdf.cell(110, 5, txt=\"Blood Group: {}\".format(blood_group), ln=1, align=\"C\")\n",
    "pdf.set_xy(115, 40)\n",
    "pdf.cell(110, 5, txt=\"AIR: {}\".format(AIR), ln=1, align=\"C\")\n",
    "pdf.set_xy(115, 45)\n",
    "pdf.cell(110, 5, txt=\"(E): {}\".format(emergency_contact), ln=1, align=\"C\")\n",
    "pdf.set_xy(115, 55)\n",
    "pdf.cell(110, 5, txt=\"AMBULANCE: 102/108\", ln=1, align=\"C\")\n",
    "\n",
    "\n",
    "#Middle Tag\n",
    "pdf.set_fill_color(128, 255, 0)\n",
    "pdf.rect(15, 80, 50, 70, style='F')\n",
    "pdf.set_fill_color(255, 255, 255)\n",
    "pdf.ellipse(27.5, 85, 25,25, style='F')\n",
    "pdf.image('result.png', x=30, y=87.5, w=20)\n",
    "pdf.set_fill_color(0, 0, 0)\n",
    "pdf.set_xy(20, 115)\n",
    "pdf.cell(40, 5, txt=name, ln=1, align=\"C\")\n",
    "pdf.set_xy(20, 120)\n",
    "pdf.cell(40, 5, txt=\"Blood Group: {}\".format(blood_group), ln=1, align=\"C\")\n",
    "pdf.set_xy(20, 125)\n",
    "pdf.cell(40, 5, txt=\"AIR: {}\".format(AIR), ln=1, align=\"C\")\n",
    "pdf.set_xy(20, 130)\n",
    "pdf.cell(40, 5, txt=\"(E): {}\".format(emergency_contact), ln=1, align=\"C\")\n",
    "pdf.set_xy(20, 135)\n",
    "pdf.cell(40, 5, txt=\"AMBULANCE: 102/108\", ln=1, align=\"C\")\n",
    "\n",
    "\n",
    "# Bottom Text\n",
    "pdf.set_xy(50, 200)\n",
    "pdf.cell(50, 5, txt=\"INSTRUCTIONS\", ln=1, align=\"C\")\n",
    "pdf.cell(100, 5, txt=\"1. Take a Colour print of the pdf file (A4 Page Size, No Scaling).\", ln=1, align=\"L\")\n",
    "pdf.cell(100, 5, txt=\"2. Cut the e-TAG along the Green colour border (all 3 nos).\", ln=1, align=\"L\")\n",
    "pdf.cell(100, 5, txt=\"3. Laminate each e-TAG separately (2 horizontal, 1 vertical).\", ln=1, align=\"L\")\n",
    "pdf.cell(100, 5, txt=\"4. Attach the horizontal e-TAG on the Handle Bar and Seat Post of\", ln=1, align=\"L\")\n",
    "pdf.cell(100, 5, txt=\"the bicycle respectively (see pic below).\", ln=1, align=\"L\")\n",
    "pdf.cell(100, 5, txt=\"5. Tie it using a zip cable-tie or toin thread and cut the extra tie.\", ln=1, align=\"L\")\n",
    "pdf.cell(100, 5, txt=\"6. Keep one e-TAG (verticle one) in your wallet, pouch, pocket\", ln=1, align=\"L\")\n",
    "pdf.cell(100, 5, txt=\"etc. in a way that it is easily accessible.\", ln=1, align=\"L\")\n",
    "#update output location\n",
    "pdf.output(\"sample_demo.pdf\")"
   ]
  },
  {
   "cell_type": "code",
   "execution_count": null,
   "metadata": {},
   "outputs": [],
   "source": []
  },
  {
   "cell_type": "code",
   "execution_count": null,
   "metadata": {},
   "outputs": [],
   "source": []
  }
 ],
 "metadata": {
  "kernelspec": {
   "display_name": "Python 3",
   "language": "python",
   "name": "python3"
  },
  "language_info": {
   "codemirror_mode": {
    "name": "ipython",
    "version": 3
   },
   "file_extension": ".py",
   "mimetype": "text/x-python",
   "name": "python",
   "nbconvert_exporter": "python",
   "pygments_lexer": "ipython3",
   "version": "3.7.3"
  }
 },
 "nbformat": 4,
 "nbformat_minor": 2
}
